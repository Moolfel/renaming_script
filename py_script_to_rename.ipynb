{
 "cells": [
  {
   "cell_type": "code",
   "execution_count": 1,
   "metadata": {},
   "outputs": [],
   "source": [
    "from typing import List\n",
    "import os"
   ]
  },
  {
   "cell_type": "code",
   "execution_count": null,
   "metadata": {},
   "outputs": [],
   "source": [
    "path_location: str = \"/home/moolfel/files/\"\n",
    "\n",
    "files_in_dir: List[str] = os.listdir(path_location)# list files in the directory.\n",
    "file_extension: str = \".jpg\""
   ]
  },
  {
   "cell_type": "code",
   "execution_count": null,
   "metadata": {},
   "outputs": [],
   "source": [
    "def rename_files_in_dir():\n",
    "    \"\"\"Renaming multiple files in the directory\"\"\"\n",
    "    for count_file, file_name in enumerate(files_in_dir): \n",
    "        file_name_build: str = \"AI \" + str(count_file) + file_extension\n",
    "        file_path: str = path_location + file_name\n",
    "        file_name_build: str = path_location + file_name_build\n",
    "        os.rename(file_path, file_name_build) # Rename files\n",
    "\n",
    "\n",
    "rename_files_in_dir() # fn call"
   ]
  }
 ],
 "metadata": {
  "kernelspec": {
   "display_name": "Python 3.7.7 64-bit ('diagnostics': conda)",
   "language": "python",
   "name": "python37764bitdiagnosticscondab8fdd2e6435c4beb8a6415b87078fb1a"
  },
  "language_info": {
   "codemirror_mode": {
    "name": "ipython",
    "version": 3
   },
   "file_extension": ".py",
   "mimetype": "text/x-python",
   "name": "python",
   "nbconvert_exporter": "python",
   "pygments_lexer": "ipython3",
   "version": "3.7.7"
  }
 },
 "nbformat": 4,
 "nbformat_minor": 4
}
